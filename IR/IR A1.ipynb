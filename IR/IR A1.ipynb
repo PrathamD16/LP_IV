{
 "cells": [
  {
   "cell_type": "code",
   "execution_count": 1,
   "id": "6359af83",
   "metadata": {},
   "outputs": [],
   "source": [
    "from sklearn.feature_extraction.text import CountVectorizer\n",
    "from sklearn.metrics.pairwise import cosine_similarity"
   ]
  },
  {
   "cell_type": "code",
   "execution_count": 2,
   "id": "12f034ec",
   "metadata": {},
   "outputs": [],
   "source": [
    "# Define two text documents\n",
    "document1 = \"This is the first document. It contains words.\"\n",
    "document2 = \"This document is the second document.\""
   ]
  },
  {
   "cell_type": "code",
   "execution_count": 3,
   "id": "647dce06",
   "metadata": {},
   "outputs": [],
   "source": [
    "# Create a CountVectorizer to convert the text into a document-term matrix\n",
    "vectorizer = CountVectorizer()\n",
    "documents = [document1, document2]\n",
    "document_matrix = vectorizer.fit_transform(documents)\n"
   ]
  },
  {
   "cell_type": "code",
   "execution_count": 4,
   "id": "0b63892b",
   "metadata": {},
   "outputs": [],
   "source": [
    "# Compute the cosine similarity\n",
    "cosine_sim = cosine_similarity(document_matrix, document_matrix)"
   ]
  },
  {
   "cell_type": "code",
   "execution_count": 5,
   "id": "115a2bc3",
   "metadata": {},
   "outputs": [
    {
     "name": "stdout",
     "output_type": "stream",
     "text": [
      "Cosine Similarity:\n",
      "[[1.    0.625]\n",
      " [0.625 1.   ]]\n",
      "Similarity between Document 1 and Document 2: 0.6249999999999999\n"
     ]
    }
   ],
   "source": [
    "# The cosine_sim matrix is a 2x2 matrix where cosine_sim[i][j] represents the similarity between document i and document j\n",
    "print(\"Cosine Similarity:\")\n",
    "print(cosine_sim)\n",
    "print(f\"Similarity between Document 1 and Document 2: {cosine_sim[0][1]}\")"
   ]
  },
  {
   "cell_type": "code",
   "execution_count": null,
   "id": "5a3b1f5d",
   "metadata": {},
   "outputs": [],
   "source": []
  }
 ],
 "metadata": {
  "kernelspec": {
   "display_name": "Python 3",
   "language": "python",
   "name": "python3"
  },
  "language_info": {
   "codemirror_mode": {
    "name": "ipython",
    "version": 3
   },
   "file_extension": ".py",
   "mimetype": "text/x-python",
   "name": "python",
   "nbconvert_exporter": "python",
   "pygments_lexer": "ipython3",
   "version": "3.9.4"
  }
 },
 "nbformat": 4,
 "nbformat_minor": 5
}
