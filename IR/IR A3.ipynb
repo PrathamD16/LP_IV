{
 "cells": [
  {
   "cell_type": "code",
   "execution_count": 1,
   "id": "0b6cb84e",
   "metadata": {},
   "outputs": [],
   "source": [
    "import nltk\n",
    "from nltk.corpus import stopwords\n",
    "from nltk.tokenize import word_tokenize"
   ]
  },
  {
   "cell_type": "code",
   "execution_count": 2,
   "id": "faea8529",
   "metadata": {},
   "outputs": [],
   "source": [
    "# Sample text document\n",
    "document = \"This is a sample text document containing stop words. It needs to be pre-processed.\""
   ]
  },
  {
   "cell_type": "code",
   "execution_count": 3,
   "id": "e7d8f8bf",
   "metadata": {},
   "outputs": [],
   "source": [
    "# Tokenize the document into words\n",
    "words = word_tokenize(document)"
   ]
  },
  {
   "cell_type": "code",
   "execution_count": 4,
   "id": "55a1f46b",
   "metadata": {},
   "outputs": [],
   "source": [
    "# Get a list of English stop words\n",
    "stop_words = set(stopwords.words('english'))"
   ]
  },
  {
   "cell_type": "code",
   "execution_count": 5,
   "id": "1958ccd4",
   "metadata": {},
   "outputs": [],
   "source": [
    "# Remove stop words from the document\n",
    "filtered_words = [word for word in words if word.lower() not in stop_words]"
   ]
  },
  {
   "cell_type": "code",
   "execution_count": 6,
   "id": "3b71526c",
   "metadata": {},
   "outputs": [],
   "source": [
    "# Reconstruct the document without stop words\n",
    "processed_document = ' '.join(filtered_words)\n"
   ]
  },
  {
   "cell_type": "code",
   "execution_count": 7,
   "id": "a4e9b37f",
   "metadata": {},
   "outputs": [
    {
     "name": "stdout",
     "output_type": "stream",
     "text": [
      "Original Document:\n",
      "This is a sample text document containing stop words. It needs to be pre-processed.\n"
     ]
    }
   ],
   "source": [
    "print(\"Original Document:\")\n",
    "print(document)"
   ]
  },
  {
   "cell_type": "code",
   "execution_count": 8,
   "id": "7e593caf",
   "metadata": {},
   "outputs": [
    {
     "name": "stdout",
     "output_type": "stream",
     "text": [
      "\n",
      "Processed Document (Stop Words Removed):\n",
      "sample text document containing stop words . needs pre-processed .\n"
     ]
    }
   ],
   "source": [
    "print(\"\\nProcessed Document (Stop Words Removed):\")\n",
    "print(processed_document)"
   ]
  },
  {
   "cell_type": "code",
   "execution_count": null,
   "id": "88624a61",
   "metadata": {},
   "outputs": [],
   "source": []
  }
 ],
 "metadata": {
  "kernelspec": {
   "display_name": "Python 3",
   "language": "python",
   "name": "python3"
  },
  "language_info": {
   "codemirror_mode": {
    "name": "ipython",
    "version": 3
   },
   "file_extension": ".py",
   "mimetype": "text/x-python",
   "name": "python",
   "nbconvert_exporter": "python",
   "pygments_lexer": "ipython3",
   "version": "3.9.4"
  }
 },
 "nbformat": 4,
 "nbformat_minor": 5
}
