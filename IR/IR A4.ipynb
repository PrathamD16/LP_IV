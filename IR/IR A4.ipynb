{
 "cells": [
  {
   "cell_type": "code",
   "execution_count": 1,
   "id": "66af9598",
   "metadata": {},
   "outputs": [],
   "source": [
    "from collections import defaultdict"
   ]
  },
  {
   "cell_type": "code",
   "execution_count": 2,
   "id": "daacdca8",
   "metadata": {},
   "outputs": [],
   "source": [
    "# Sample dataset\n",
    "dataset = \"Hello, World! This is a sample dataset for character counting.\""
   ]
  },
  {
   "cell_type": "code",
   "execution_count": 3,
   "id": "29d21719",
   "metadata": {},
   "outputs": [],
   "source": [
    "# Map function to convert text to lowercase and filter non-alphabetic characters\n",
    "def mapper(text):\n",
    "    text = text.lower()\n",
    "    return [c for c in text if c.isalpha()]"
   ]
  },
  {
   "cell_type": "code",
   "execution_count": 4,
   "id": "d6450d9b",
   "metadata": {},
   "outputs": [],
   "source": [
    "# Reduce function to count the occurrences of each character\n",
    "def reducer(char_count, char):\n",
    "    char_count[char] += 1\n",
    "    return char_count"
   ]
  },
  {
   "cell_type": "code",
   "execution_count": 5,
   "id": "10cad3c0",
   "metadata": {},
   "outputs": [],
   "source": [
    "# Map step\n",
    "mapped_data = [char for char_list in map(mapper, dataset) for char in char_list]"
   ]
  },
  {
   "cell_type": "code",
   "execution_count": 6,
   "id": "63573d5b",
   "metadata": {},
   "outputs": [
    {
     "ename": "NameError",
     "evalue": "name 'reduce' is not defined",
     "output_type": "error",
     "traceback": [
      "\u001b[1;31m---------------------------------------------------------------------------\u001b[0m",
      "\u001b[1;31mNameError\u001b[0m                                 Traceback (most recent call last)",
      "\u001b[1;32m<ipython-input-6-db5dda8f27f6>\u001b[0m in \u001b[0;36m<module>\u001b[1;34m\u001b[0m\n\u001b[0;32m      1\u001b[0m \u001b[1;31m# Reduce step\u001b[0m\u001b[1;33m\u001b[0m\u001b[1;33m\u001b[0m\u001b[1;33m\u001b[0m\u001b[0m\n\u001b[1;32m----> 2\u001b[1;33m \u001b[0mcharacter_counts\u001b[0m \u001b[1;33m=\u001b[0m \u001b[0mreduce\u001b[0m\u001b[1;33m(\u001b[0m\u001b[0mreducer\u001b[0m\u001b[1;33m,\u001b[0m \u001b[0mmapped_data\u001b[0m\u001b[1;33m,\u001b[0m \u001b[0mdefaultdict\u001b[0m\u001b[1;33m(\u001b[0m\u001b[0mint\u001b[0m\u001b[1;33m)\u001b[0m\u001b[1;33m)\u001b[0m\u001b[1;33m\u001b[0m\u001b[1;33m\u001b[0m\u001b[0m\n\u001b[0m",
      "\u001b[1;31mNameError\u001b[0m: name 'reduce' is not defined"
     ]
    }
   ],
   "source": [
    "# Reduce step\n",
    "character_counts = reduce(reducer, mapped_data, defaultdict(int))"
   ]
  },
  {
   "cell_type": "code",
   "execution_count": 14,
   "id": "f92a9e84",
   "metadata": {},
   "outputs": [
    {
     "name": "stdout",
     "output_type": "stream",
     "text": [
      "'h': 3\n",
      "'e': 4\n",
      "'l': 4\n",
      "'o': 4\n",
      "'w': 1\n",
      "'r': 4\n",
      "'d': 2\n",
      "'t': 5\n",
      "'i': 3\n",
      "'s': 4\n",
      "'a': 6\n",
      "'m': 1\n",
      "'p': 1\n",
      "'f': 1\n",
      "'c': 3\n",
      "'u': 1\n",
      "'n': 2\n",
      "'g': 1\n"
     ]
    }
   ],
   "source": [
    "# Print the results\n",
    "for char, count in character_counts.items():\n",
    "    print(f\"'{char}': {count}\")"
   ]
  },
  {
   "cell_type": "code",
   "execution_count": null,
   "id": "d713a95c",
   "metadata": {},
   "outputs": [],
   "source": []
  }
 ],
 "metadata": {
  "kernelspec": {
   "display_name": "Python 3",
   "language": "python",
   "name": "python3"
  },
  "language_info": {
   "codemirror_mode": {
    "name": "ipython",
    "version": 3
   },
   "file_extension": ".py",
   "mimetype": "text/x-python",
   "name": "python",
   "nbconvert_exporter": "python",
   "pygments_lexer": "ipython3",
   "version": "3.9.4"
  }
 },
 "nbformat": 4,
 "nbformat_minor": 5
}
