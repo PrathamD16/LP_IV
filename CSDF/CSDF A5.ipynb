{
 "cells": [
  {
   "cell_type": "code",
   "execution_count": 1,
   "id": "e761e8a0",
   "metadata": {},
   "outputs": [],
   "source": [
    "import re"
   ]
  },
  {
   "cell_type": "code",
   "execution_count": 2,
   "id": "37ebc1de",
   "metadata": {},
   "outputs": [],
   "source": [
    "# Function to read log entries from a text file\n",
    "def read_log_file(file_path):\n",
    "    with open(file_path, 'r') as log_file:\n",
    "        log_entries = log_file.readlines()\n",
    "    return log_entries"
   ]
  },
  {
   "cell_type": "code",
   "execution_count": 3,
   "id": "19725c51",
   "metadata": {},
   "outputs": [],
   "source": [
    "# Function to perform event correlation based on keywords\n",
    "def correlate_events(log_entries):\n",
    "    correlated_events = []\n",
    "    for entry in log_entries:\n",
    "        if 'error' in entry.lower():\n",
    "            correlated_events.append(f\"Error detected: {entry.strip()}\")\n",
    "        if 'warning' in entry.lower():\n",
    "            correlated_events.append(f\"Warning detected: {entry.strip()}\")\n",
    "        # Add more event correlation rules here\n",
    "\n",
    "    return correlated_events\n"
   ]
  },
  {
   "cell_type": "code",
   "execution_count": 11,
   "id": "ddc9f1e7",
   "metadata": {},
   "outputs": [
    {
     "name": "stdout",
     "output_type": "stream",
     "text": [
      "No correlated events found.\n"
     ]
    }
   ],
   "source": [
    "if __name__ == '__main__':\n",
    "    log_file_path = r'C:\\Users\\admin\\Desktop\\SEM7\\LP4\\Codes\\sample_log.txt'  #Replace with your log file path\n",
    "\n",
    "    log_entries = read_log_file(log_file_path)\n",
    "    correlated_events = correlate_events(log_entries)\n",
    "\n",
    "    if correlated_events:\n",
    "        print(\"Correlated Events:\")\n",
    "        for event in correlated_events:\n",
    "            print(event)\n",
    "    else:\n",
    "        print(\"No correlated events found.\")"
   ]
  },
  {
   "cell_type": "code",
   "execution_count": null,
   "id": "29a36b8a",
   "metadata": {},
   "outputs": [],
   "source": []
  }
 ],
 "metadata": {
  "kernelspec": {
   "display_name": "Python 3 (ipykernel)",
   "language": "python",
   "name": "python3"
  },
  "language_info": {
   "codemirror_mode": {
    "name": "ipython",
    "version": 3
   },
   "file_extension": ".py",
   "mimetype": "text/x-python",
   "name": "python",
   "nbconvert_exporter": "python",
   "pygments_lexer": "ipython3",
   "version": "3.11.3"
  }
 },
 "nbformat": 4,
 "nbformat_minor": 5
}
