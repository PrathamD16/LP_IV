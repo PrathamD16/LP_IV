{
 "cells": [
  {
   "cell_type": "code",
   "execution_count": 1,
   "id": "eeb349b2",
   "metadata": {},
   "outputs": [
    {
     "ename": "RuntimeError",
     "evalue": "img must be derived from type Img_Info",
     "output_type": "error",
     "traceback": [
      "\u001b[1;31m---------------------------------------------------------------------------\u001b[0m",
      "\u001b[1;31mRuntimeError\u001b[0m                              Traceback (most recent call last)",
      "\u001b[1;32m<ipython-input-1-4b3dd1ea8efe>\u001b[0m in \u001b[0;36m<module>\u001b[1;34m\u001b[0m\n\u001b[0;32m     26\u001b[0m \u001b[1;33m\u001b[0m\u001b[0m\n\u001b[0;32m     27\u001b[0m \u001b[1;32mif\u001b[0m \u001b[0m__name__\u001b[0m \u001b[1;33m==\u001b[0m \u001b[1;34m\"__main__\"\u001b[0m\u001b[1;33m:\u001b[0m\u001b[1;33m\u001b[0m\u001b[1;33m\u001b[0m\u001b[0m\n\u001b[1;32m---> 28\u001b[1;33m     \u001b[0mpartition_table\u001b[0m \u001b[1;33m=\u001b[0m \u001b[0mpytsk3\u001b[0m\u001b[1;33m.\u001b[0m\u001b[0mVolume_Info\u001b[0m\u001b[1;33m(\u001b[0m\u001b[0mimage_path\u001b[0m\u001b[1;33m)\u001b[0m\u001b[1;33m\u001b[0m\u001b[1;33m\u001b[0m\u001b[0m\n\u001b[0m\u001b[0;32m     29\u001b[0m     \u001b[1;32mfor\u001b[0m \u001b[0mpartition\u001b[0m \u001b[1;32min\u001b[0m \u001b[0mpartition_table\u001b[0m\u001b[1;33m:\u001b[0m\u001b[1;33m\u001b[0m\u001b[1;33m\u001b[0m\u001b[0m\n\u001b[0;32m     30\u001b[0m         \u001b[1;32mif\u001b[0m \u001b[0mpartition\u001b[0m\u001b[1;33m.\u001b[0m\u001b[0mlen\u001b[0m \u001b[1;33m>\u001b[0m \u001b[1;36m0\u001b[0m\u001b[1;33m:\u001b[0m\u001b[1;33m\u001b[0m\u001b[1;33m\u001b[0m\u001b[0m\n",
      "\u001b[1;31mRuntimeError\u001b[0m: img must be derived from type Img_Info"
     ]
    }
   ],
   "source": [
    "import os\n",
    "import pytsk3\n",
    "\n",
    "# Define the disk image path\n",
    "image_path = \"path_to_disk_image.dd\"  # Replace with your disk image file\n",
    "\n",
    "# Output directory for recovered files\n",
    "output_dir = \"recovered_files\"\n",
    "os.makedirs(output_dir, exist_ok=True)\n",
    "\n",
    "def recover_deleted_files(partition_addr, output_dir):\n",
    "    img_info = pytsk3.Img_Info(image_path)\n",
    "    fs_info = pytsk3.FS_Info(img_info, addr=partition_addr)\n",
    "    \n",
    "    for directory_entry in fs_info.open_dir(path=\"/\", addr=partition_addr):\n",
    "        for file_entry in directory_entry:\n",
    "            if file_entry.info.name.type == pytsk3.TSK_FS_NAME_TYPE_UNDEF:\n",
    "                continue\n",
    "            try:\n",
    "                file_content = fs_info.open_meta(file_entry.info)\n",
    "                if file_content.info.meta.flags == pytsk3.TSK_FS_META_FLAG_ALLOC:\n",
    "                    with open(os.path.join(output_dir, file_entry.info.name.name), \"wb\") as f:\n",
    "                        f.write(file_content.read_random(0, file_entry.info.meta.size))\n",
    "            except Exception as e:\n",
    "                print(f\"Error recovering {file_entry.info.name.name}: {str(e)}\")\n",
    "\n",
    "if __name__ == \"__main__\":\n",
    "    partition_table = pytsk3.Volume_Info(image_path)\n",
    "    for partition in partition_table:\n",
    "        if partition.len > 0:\n",
    "            print(f\"Recovering deleted files from partition {partition.addr}\")\n",
    "            recover_deleted_files(partition.addr, output_dir)\n",
    "\n",
    "print(\"File recovery complete. Recovered files are in the 'recovered_files' directory.\")\n"
   ]
  },
  {
   "cell_type": "code",
   "execution_count": null,
   "id": "3cec058b",
   "metadata": {},
   "outputs": [],
   "source": []
  }
 ],
 "metadata": {
  "kernelspec": {
   "display_name": "Python 3 (ipykernel)",
   "language": "python",
   "name": "python3"
  },
  "language_info": {
   "codemirror_mode": {
    "name": "ipython",
    "version": 3
   },
   "file_extension": ".py",
   "mimetype": "text/x-python",
   "name": "python",
   "nbconvert_exporter": "python",
   "pygments_lexer": "ipython3",
   "version": "3.11.3"
  }
 },
 "nbformat": 4,
 "nbformat_minor": 5
}
