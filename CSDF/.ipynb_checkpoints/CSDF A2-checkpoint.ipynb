{
 "cells": [
  {
   "cell_type": "code",
   "execution_count": 1,
   "id": "40e9e46e",
   "metadata": {},
   "outputs": [],
   "source": [
    "import random\n",
    "import string\n",
    "from PIL import Image, ImageDraw, ImageFont"
   ]
  },
  {
   "cell_type": "code",
   "execution_count": 2,
   "id": "7d73e84c",
   "metadata": {},
   "outputs": [],
   "source": [
    "# Generate a random CAPTCHA string\n",
    "def generate_random_string(length):\n",
    "    characters = string.ascii_letters + string.digits\n",
    "    captcha = ''.join(random.choice(characters) for _ in range(length))\n",
    "    return captcha"
   ]
  },
  {
   "cell_type": "code",
   "execution_count": 3,
   "id": "277dcd64",
   "metadata": {},
   "outputs": [],
   "source": [
    "# Generate a CAPTCHA image\n",
    "def generate_captcha_image(text):\n",
    "    width, height = 200, 80\n",
    "    image = Image.new('RGB', (width, height), (255, 255, 255))\n",
    "    draw = ImageDraw.Draw(image)\n",
    "\n",
    "    font = ImageFont.load_default()  # You can specify a font file for a custom font\n",
    "\n",
    "    # Draw the text on the image\n",
    "    draw.text((20, 20), text, fill=(0, 0, 0), font=font)\n",
    "\n",
    "    return image"
   ]
  },
  {
   "cell_type": "code",
   "execution_count": 4,
   "id": "a8117a3a",
   "metadata": {},
   "outputs": [],
   "source": [
    "# Verify user input against the CAPTCHA text\n",
    "def verify_captcha(user_input, captcha_text):\n",
    "    return user_input == captcha_text\n"
   ]
  },
  {
   "cell_type": "code",
   "execution_count": 5,
   "id": "43272221",
   "metadata": {},
   "outputs": [
    {
     "name": "stdout",
     "output_type": "stream",
     "text": [
      "Enter the CAPTCHA: vEjZoj\n",
      "CAPTCHA verification failed!\n"
     ]
    }
   ],
   "source": [
    "if __name__ == '__main__':\n",
    "    captcha_text = generate_random_string(6)\n",
    "    captcha_image = generate_captcha_image(captcha_text)\n",
    "    \n",
    "    captcha_image.show()\n",
    "    \n",
    "    user_input = input('Enter the CAPTCHA: ')\n",
    "    \n",
    "    if verify_captcha(user_input, captcha_text):\n",
    "        print('CAPTCHA verification successful!')\n",
    "    else:\n",
    "        print('CAPTCHA verification failed!')"
   ]
  },
  {
   "cell_type": "code",
   "execution_count": null,
   "id": "a0095008",
   "metadata": {},
   "outputs": [],
   "source": []
  }
 ],
 "metadata": {
  "kernelspec": {
   "display_name": "Python 3 (ipykernel)",
   "language": "python",
   "name": "python3"
  },
  "language_info": {
   "codemirror_mode": {
    "name": "ipython",
    "version": 3
   },
   "file_extension": ".py",
   "mimetype": "text/x-python",
   "name": "python",
   "nbconvert_exporter": "python",
   "pygments_lexer": "ipython3",
   "version": "3.11.3"
  }
 },
 "nbformat": 4,
 "nbformat_minor": 5
}
